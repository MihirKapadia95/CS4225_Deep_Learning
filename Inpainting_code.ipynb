{
  "nbformat": 4,
  "nbformat_minor": 0,
  "metadata": {
    "colab": {
      "name": "Inpainting_code.ipynb",
      "provenance": [],
      "collapsed_sections": []
    },
    "kernelspec": {
      "name": "python3",
      "display_name": "Python 3"
    },
    "accelerator": "GPU"
  },
  "cells": [
    {
      "cell_type": "markdown",
      "metadata": {
        "id": "Z2ItYKyPPcTJ",
        "colab_type": "text"
      },
      "source": [
        "#*Inpainting Code*"
      ]
    },
    {
      "cell_type": "code",
      "metadata": {
        "id": "prVhlh8nq7L7",
        "colab_type": "code",
        "colab": {}
      },
      "source": [
        "!pip3 install http://download.pytorch.org/whl/cu80/torch-0.3.0.post4-cp36-cp36m-linux_x86_64.whl "
      ],
      "execution_count": 0,
      "outputs": []
    },
    {
      "cell_type": "code",
      "metadata": {
        "id": "g132MJ2ErVMX",
        "colab_type": "code",
        "colab": {}
      },
      "source": [
        "!pip3 install torchvision"
      ],
      "execution_count": 0,
      "outputs": []
    },
    {
      "cell_type": "code",
      "metadata": {
        "id": "89o8j8ubrZ5Z",
        "colab_type": "code",
        "colab": {}
      },
      "source": [
        "!pip install -U -q PyDrive\n",
        "from pydrive.auth import GoogleAuth\n",
        "from pydrive.drive import GoogleDrive\n",
        "from google.colab import auth\n",
        "from oauth2client.client import GoogleCredentials"
      ],
      "execution_count": 0,
      "outputs": []
    },
    {
      "cell_type": "code",
      "metadata": {
        "id": "ddy73nlqrcCe",
        "colab_type": "code",
        "colab": {}
      },
      "source": [
        "from google.colab import drive\n",
        "drive.mount('/content/drive')"
      ],
      "execution_count": 0,
      "outputs": []
    },
    {
      "cell_type": "code",
      "metadata": {
        "id": "2Ago7Fl3rdHP",
        "colab_type": "code",
        "colab": {}
      },
      "source": [
        "cd drive/"
      ],
      "execution_count": 0,
      "outputs": []
    },
    {
      "cell_type": "code",
      "metadata": {
        "id": "NjbA4jTw3TLW",
        "colab_type": "code",
        "colab": {}
      },
      "source": [
        "cd My\\ Drive"
      ],
      "execution_count": 0,
      "outputs": []
    },
    {
      "cell_type": "code",
      "metadata": {
        "id": "NrQSq9oV3TWI",
        "colab_type": "code",
        "colab": {}
      },
      "source": [
        "cd Deep\\ Learning\\ Project\\ "
      ],
      "execution_count": 0,
      "outputs": []
    },
    {
      "cell_type": "code",
      "metadata": {
        "id": "vZaRsUALrg4m",
        "colab_type": "code",
        "colab": {}
      },
      "source": [
        "from skimage.measure import compare_psnr\n",
        "from __future__ import print_function\n",
        "import matplotlib.pyplot as plt\n",
        "%matplotlib inline\n",
        "import os\n",
        "# os.environ['CUDA_VISIBLE_DEVICES'] = '1'\n",
        "import numpy as np\n",
        "from models.resnet import ResNet\n",
        "from models.unet import UNet\n",
        "from models.skip import skip\n",
        "import torch\n",
        "import torch.optim\n",
        "from utils.inpainting_utils import *\n",
        "\n",
        "torch.backends.cudnn.enabled = True\n",
        "torch.backends.cudnn.benchmark =True\n",
        "dtype = torch.cuda.FloatTensor\n",
        "\n",
        "PLOT = True\n",
        "imsize = -1\n",
        "dim_div_by = 64"
      ],
      "execution_count": 0,
      "outputs": []
    },
    {
      "cell_type": "code",
      "metadata": {
        "id": "BmKIo6AlrkxY",
        "colab_type": "code",
        "colab": {}
      },
      "source": [
        "img_path  = 'data/inpainting/kate.png'     # Add your image path here\n",
        "mask_path = 'data/inpainting/kate_mask.png' # Add the mask image here \n",
        "\n",
        "img_pil, img_np = get_image(img_path, imsize)\n",
        "img_mask_pil, img_mask_np = get_image(mask_path, imsize)\n",
        "\n",
        "img_mask_pil = crop_image(img_mask_pil, dim_div_by)\n",
        "img_pil      = crop_image(img_pil,      dim_div_by)\n",
        "\n",
        "img_np      = pil_to_np(img_pil)\n",
        "img_mask_np = pil_to_np(img_mask_pil)\n",
        "\n",
        "img_pil, img_np = get_image(img_path, imsize)\n",
        "img_mask_pil, img_mask_np = get_image(mask_path, imsize)\n",
        "\n",
        "img_mask_var = np_to_torch(img_mask_np).type(dtype)\n",
        "plot_image_grid([img_np, img_mask_np, img_mask_np*img_np], 3,11);\n"
      ],
      "execution_count": 0,
      "outputs": []
    },
    {
      "cell_type": "code",
      "metadata": {
        "id": "rbTjYhyRLuHP",
        "colab_type": "code",
        "colab": {}
      },
      "source": [
        "\n",
        "pad = 'reflection' # 'zero'\n",
        "OPT_OVER = 'net'\n",
        "OPTIMIZER = 'adam' "
      ],
      "execution_count": 0,
      "outputs": []
    },
    {
      "cell_type": "code",
      "metadata": {
        "id": "tqxttk8Mr0wQ",
        "colab_type": "code",
        "colab": {}
      },
      "source": [
        "\n",
        "def repeat_run(mask_path,img_path,i=0,input_depth=32,INPUT='noise',LR=0.1,num_iter=6001, reg_noise_std=0.03,show_every=1000,channels=128,depth=5):\n",
        "\n",
        "\n",
        "  img_pil, img_np = get_image(img_path, imsize)\n",
        "  img_mask_pil, img_mask_np = get_image(mask_path, imsize)\n",
        "\n",
        "  img_mask_pil = crop_image(img_mask_pil, dim_div_by)\n",
        "  img_pil      = crop_image(img_pil,      dim_div_by)\n",
        "\n",
        "  img_np      = pil_to_np(img_pil)\n",
        "  img_mask_np = pil_to_np(img_mask_pil)\n",
        "\n",
        "  img_pil, img_np = get_image(img_path, imsize)\n",
        "  img_mask_pil, img_mask_np = get_image(mask_path, imsize)\n",
        "\n",
        "  img_mask_var = np_to_torch(img_mask_np).type(dtype)\n",
        "        \n",
        "  param_noise = False\n",
        "  figsize = 5\n",
        "  net = skip(input_depth, img_np.shape[0], \n",
        "          num_channels_down = [channels] * depth,\n",
        "          num_channels_skip = [channels] * depth,\n",
        "          num_channels_up =   [channels] * depth,  \n",
        "          filter_size_up = 3, filter_size_down = 3, \n",
        "          upsample_mode='nearest', filter_skip_size=1,\n",
        "          need_sigmoid=True, need_bias=True, pad=pad, act_fun='LeakyReLU').type(dtype)\n",
        "\n",
        "  net = net.type(dtype)\n",
        "  net_input = get_noise(input_depth, INPUT, img_np.shape[1:]).type(dtype)\n",
        "\n",
        "  \n",
        "  # Compute number of parameters\n",
        "  s  = sum(np.prod(list(p.size())) for p in net.parameters())\n",
        "  print ('Number of params: %d' % s)\n",
        "\n",
        "  # Loss\n",
        "  mse = torch.nn.MSELoss().type(dtype)\n",
        "\n",
        "  img_var = np_to_torch(img_np).type(dtype)\n",
        "  mask_var = np_to_torch(img_mask_np).type(dtype)\n",
        "\n",
        "  i = 0\n",
        "  def closure():\n",
        "      \n",
        "      global i\n",
        "      \n",
        "      if param_noise:\n",
        "          for n in [x for x in net.parameters() if len(x.size()) == 4]:\n",
        "              n = n + n.detach().clone().normal_() * n.std() / 50\n",
        "      \n",
        "      net_input = net_input_saved\n",
        "      if reg_noise_std > 0:\n",
        "          net_input = net_input_saved + (noise.normal_() * reg_noise_std)\n",
        "          \n",
        "          \n",
        "      out = net(net_input)\n",
        "    \n",
        "      total_loss = mse(out * mask_var, img_var * mask_var)\n",
        "      total_loss.backward()\n",
        "          \n",
        "      print ('Iteration %05d    Loss %f' % (i, total_loss.item()), '\\r', end='')\n",
        "      if  PLOT and i % show_every == 0:\n",
        "          out_np = torch_to_np(out)\n",
        "          plot_image_grid([np.clip(out_np, 0, 1)], factor=figsize, nrow=1)\n",
        "          \n",
        "      i += 1\n",
        "      return total_loss\n",
        "\n",
        "\n",
        "  net_input_saved = net_input.detach().clone()\n",
        "  noise = net_input.detach().clone()\n",
        "\n",
        "  \n",
        "  p = get_params(OPT_OVER, net, net_input)\n",
        "  optimize(OPTIMIZER, p, closure, LR, num_iter)\n",
        "\n",
        "  out_np = torch_to_np(net(net_input))\n",
        "  return compare_psnr(img_np, out_np) "
      ],
      "execution_count": 0,
      "outputs": []
    },
    {
      "cell_type": "markdown",
      "metadata": {
        "id": "aVxFWGckMBx0",
        "colab_type": "text"
      },
      "source": [
        "We passed different parameters in repeat_run() function to construct the relevant graphs. The existing snippet prints out the PSNR value at different input depth while keeping other parameters of the architecture same.\\\n",
        "To get the output with only certain parameters, we can run repeat_run() only one time with proper image and mask path.\\\n",
        "To examine different padding, optimizers or up-sampling or down-sampling types, we directly changed those paramters in the repeat_run() function.\\\n",
        "We were changing the architecture directly by changing the net in repeat_run() function\n"
      ]
    },
    {
      "cell_type": "code",
      "metadata": {
        "id": "ibXKuPdw0_gt",
        "colab_type": "code",
        "colab": {}
      },
      "source": [
        "from numpy import empty\n",
        "PSNR_value = empty([10,1])\n",
        "input_depth_given = [1,2,4,8,16,32,40,64,80,128]\n",
        "for j_p in range(0,10):\n",
        "    PSNR_value[j_p]= repeat_run(mask_path,img_path,input_depth=input_depth_given[j_p])"
      ],
      "execution_count": 0,
      "outputs": []
    }
  ]
}